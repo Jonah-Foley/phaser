{
 "cells": [
  {
   "cell_type": "code",
   "execution_count": 1,
   "metadata": {},
   "outputs": [],
   "source": [
    "import sympy as sp\n",
    "import numpy as np\n",
    "import matplotlib.pyplot as plt\n",
    "from scipy import signal, optimize\n",
    "import functools, operator\n",
    "\n",
    "%matplotlib inline\n",
    "\n",
    "from math import ceil\n",
    "from migen import *\n",
    "from migen.fhdl import verilog"
   ]
  },
  {
   "cell_type": "code",
   "execution_count": null,
   "metadata": {},
   "outputs": [],
   "source": [
    "# http://home.mit.bme.hu/~kollar/papers/cic.pdf"
   ]
  },
  {
   "cell_type": "code",
   "execution_count": 10,
   "metadata": {},
   "outputs": [],
   "source": [
    "def stream(width):\n",
    "    return Record([\n",
    "        (\"data\", width, DIR_M_TO_S),\n",
    "        (\"stb\", 1, DIR_M_TO_S),\n",
    "        (\"ack\", 1, DIR_M_TO_S),\n",
    "    ])\n",
    "\n",
    "\n",
    "def source(stream, i):\n",
    "    for ti, ii in i:\n",
    "        assert ti > 0\n",
    "        for _ in range(ti - 1):\n",
    "            yield\n",
    "        yield stream.data.eq(ii)\n",
    "        yield stream.stb.eq(1)\n",
    "        yield\n",
    "        while not (yield stream.ack):\n",
    "            #print(ti, \"dly\")\n",
    "            yield\n",
    "        yield stream.stb.eq(0)\n",
    "\n",
    "\n",
    "#@passive\n",
    "def sink(stream, o, max):\n",
    "    yield stream.ack.eq(1)\n",
    "    t = 0\n",
    "    \n",
    "    while True:\n",
    "        while not (yield stream.stb):\n",
    "            t += 1\n",
    "            yield\n",
    "        d = yield stream.data\n",
    "        o.append((t, d))\n",
    "        if len(o) == max:\n",
    "            break\n",
    "        t = 1\n",
    "        yield\n",
    "    yield stream.ack.eq(0)\n",
    "    \n",
    "\n",
    "class Upsampler(Module):\n",
    "    def __init__(self, r, width):\n",
    "        self.i = stream(width)\n",
    "        self.o = stream(width)\n",
    "        self.r = Signal(max=r, reset=r - 1)\n",
    "\n",
    "        i = Signal(max=r)\n",
    "        i_done = Signal()\n",
    "        self.comb += [\n",
    "            i_done.eq(i == 0),\n",
    "            self.i.ack.eq(i_done & self.o.ack),\n",
    "            If(i_done,\n",
    "                self.o.data.eq(self.i.data),\n",
    "            ),\n",
    "            self.o.stb.eq(~i_done | self.i.stb),\n",
    "        ]\n",
    "        self.sync += [\n",
    "            If(self.o.ack & self.o.stb & ~i_done,\n",
    "                i.eq(i - 1)\n",
    "            ),\n",
    "            If(self.i.ack & self.i.stb,\n",
    "                i.eq(self.r)\n",
    "            ),\n",
    "        ]\n",
    "\n",
    "\n",
    "class Downsampler(Module):\n",
    "    def __init__(self, r, width):\n",
    "        self.i = stream(width)\n",
    "        self.o = stream(width)\n",
    "        self.r = Signal(max=r, reset=r - 1)\n",
    "\n",
    "        i = Signal(max=r)\n",
    "        i_done = Signal()\n",
    "        self.comb += [\n",
    "            i_done.eq(i == 0),\n",
    "            self.i.ack.eq(~i_done | self.o.ack),\n",
    "            self.o.data.eq(self.i.data),\n",
    "            self.o.stb.eq(i_done & self.i.stb),\n",
    "        ]\n",
    "        self.sync += [\n",
    "            If(self.i.ack & self.i.stb & ~i_done,\n",
    "                i.eq(i - 1)\n",
    "            ),\n",
    "            If(self.o.ack & self.o.stb,\n",
    "                i.eq(self.r)\n",
    "            ),\n",
    "        ]\n",
    "\n",
    "        \n",
    "class Register(Module):\n",
    "    def __init__(self, width):\n",
    "        self.i = stream(width)\n",
    "        self.o = stream(width)\n",
    "        self.o.data.reset_less = True\n",
    "\n",
    "        self.comb += [\n",
    "            self.i.ack.eq(~self.o.stb | self.o.ack),\n",
    "        ]\n",
    "        self.sync += [\n",
    "            If(self.o.ack,\n",
    "                self.o.stb.eq(0),\n",
    "            ),\n",
    "            If(self.i.ack & self.i.stb,\n",
    "                self.o.data.eq(self.i.data),\n",
    "                self.o.stb.eq(1)\n",
    "            )\n",
    "        ]\n",
    "\n",
    "\n",
    "class CIC(Module):\n",
    "    def __init__(self, r, m, n, width):\n",
    "        if isinstance(width, tuple):\n",
    "            width = width[0]\n",
    "        self.gain = (r*m)**n/r\n",
    "        self.rate = Signal(max=abs(r), reset=abs(r) - 1)\n",
    "\n",
    "        g = -(1 << width - 1)\n",
    "        w = lambda g: (bits_for(ceil(g)), True)\n",
    "        self.i = stream(w(g))\n",
    "        self.o = stream(w(g*self.gain))\n",
    "\n",
    "        self.i_stall = Signal()\n",
    "        self.o_drop = Signal()\n",
    "\n",
    "        self.comb += [\n",
    "            self.i_stall.eq(~self.i.ack & self.i.stb)\n",
    "        ]\n",
    "        \n",
    "        x, en = self.i.data, self.i.stb\n",
    "        if r > 0:\n",
    "            i = Signal(max=r)\n",
    "            self.comb += [\n",
    "                self.i.ack.eq(i == 0),\n",
    "            ]\n",
    "            self.sync += [\n",
    "                If(~self.i.ack,\n",
    "                    i.eq(i - 1),\n",
    "                ),\n",
    "                If(self.i.stb,\n",
    "                   i.eq(self.rate - 1),\n",
    "                ),\n",
    "            ]\n",
    "            if False:\n",
    "                for i in range(n):\n",
    "                    g *= 2\n",
    "                    x, en = self.make_comb(x, en, w(g), m)\n",
    "            else:\n",
    "                g *= 2**n\n",
    "                x, en = self.make_itercomb(x, en, w(g), n, m)\n",
    "            self.submodules.r = Upsampler(abs(r), w(g))\n",
    "            g *= 1/r\n",
    "            self.comb += [\n",
    "                self.r.r.eq(self.rate),\n",
    "                self.r.i.data.eq(x),\n",
    "                self.r.i.stb.eq(en),\n",
    "                self.r.o.ack.eq(1),\n",
    "            ]\n",
    "            x, en = self.r.o.data, self.r.o.stb\n",
    "            for i in range(n):\n",
    "                g *= r*m/2\n",
    "                x, en = self.make_integrator(x, en, w(g))\n",
    "        else:\n",
    "            self.comb += self.i.ack.eq(1)\n",
    "            g *= (r*m)**n\n",
    "            for i in range(n):\n",
    "                x, en = self.make_integrator(x, en, w(g))\n",
    "            self.submodules.r = Downsampler(abs(r), w(g))\n",
    "            self.comb += [\n",
    "                self.r.r.eq(self.rate),\n",
    "                self.r.i.data.eq(x),\n",
    "                self.r.i.stb.eq(en),\n",
    "                self.r.o.ack.eq(1),\n",
    "            ]\n",
    "            x, en = self.r.o.data, self.r.o.stb\n",
    "            for i in range(n):\n",
    "                x, en = self.make_comb(x, en, w(g), m)\n",
    "        self.o.data.reset_less = True\n",
    "        self.sync += [\n",
    "            self.o.data.eq(x),\n",
    "            self.o.stb.eq(en),\n",
    "            self.o_drop.eq(self.o.stb & ~self.o.ack & en),\n",
    "        ]\n",
    "\n",
    "    def make_comb(self, i, en, width, m=1):\n",
    "        i0 = i\n",
    "        for _ in range(m):\n",
    "            i1, i0 = i0, Signal.like(i0)\n",
    "            self.sync += [\n",
    "                If(en,\n",
    "                    i0.eq(i1),\n",
    "                )\n",
    "            ]\n",
    "        comb = Signal(width, reset_less=True)\n",
    "        comb_en = Signal()\n",
    "        self.sync += [\n",
    "            comb.eq(i - i0),\n",
    "            comb_en.eq(en),\n",
    "        ]\n",
    "        return comb, comb_en\n",
    "\n",
    "    def make_itercomb(self, i, en, width, n, m=1):\n",
    "        if m != 1:\n",
    "            raise NotImplemented()\n",
    "        mem = Memory(width=width[0], depth=bits_for(n))\n",
    "        memp = mem.get_port(write_capable=True, mode=READ_FIRST)\n",
    "        self.specials += mem, memp\n",
    "        j = Signal(max=n)\n",
    "        i0 = Signal(width, reset_less=True)\n",
    "        comb0 = Signal(width)\n",
    "        comb = Signal(width, reset_less=True)\n",
    "        done = Signal()\n",
    "        self.comb += done.eq(j == n - 1)\n",
    "        self.sync += [\n",
    "            If(~done,\n",
    "               j.eq(j - 1)\n",
    "            ),\n",
    "            If(en,\n",
    "               j.eq(n - 1)\n",
    "            ),\n",
    "            i0.eq(memp.dat_w)\n",
    "        ]\n",
    "        self.comb += [\n",
    "            comb0.eq(i0 - memp.dat_r),\n",
    "            memp.dat_w.eq(Mux(en, i, comb)),\n",
    "        ]\n",
    "        return comb, comb_en\n",
    "\n",
    "    \n",
    "    def make_integrator(self, i, en, width):\n",
    "        integrator = Signal(width)\n",
    "        integrator_en = Signal()\n",
    "        self.sync += [\n",
    "            If(en,\n",
    "                integrator.eq(integrator + i),\n",
    "            ),\n",
    "            integrator_en.eq(en),\n",
    "        ]\n",
    "        return integrator, integrator_en"
   ]
  },
  {
   "cell_type": "code",
   "execution_count": 7,
   "metadata": {},
   "outputs": [
    {
     "data": {
      "text/plain": [
       "<migen.fhdl.specials._MemoryPort at 0x7f7bb4095898>"
      ]
     },
     "execution_count": 7,
     "metadata": {},
     "output_type": "execute_result"
    }
   ],
   "source": [
    "Memory(19, 3).get_port(write_capable=True, mode=READ_FIRST)"
   ]
  },
  {
   "cell_type": "code",
   "execution_count": 5,
   "metadata": {},
   "outputs": [
    {
     "name": "stdout",
     "output_type": "stream",
     "text": [
      "[(4, 1), (1, 0), (1, 0), (1, 2), (1, 0), (1, 0), (1, 3), (1, 0), (1, 0), (8, 4), (1, 0), (1, 0)]\n"
     ]
    }
   ],
   "source": [
    "r = 3\n",
    "f = Upsampler(r, 8)\n",
    "i = [(4, 1), (3, 2), (3, 3), (10, 4)]\n",
    "o = []\n",
    "\n",
    "with Simulator(f, [source(f.i, i), sink(f.o, o, r*len(i))]) as sim:\n",
    "    sim.run()\n",
    "print(o)"
   ]
  },
  {
   "cell_type": "code",
   "execution_count": 6,
   "metadata": {},
   "outputs": [
    {
     "name": "stdout",
     "output_type": "stream",
     "text": [
      "[(4, 1), (3, 4), (14, 7)]\n"
     ]
    }
   ],
   "source": [
    "r = 3\n",
    "f = Downsampler(r, 8)\n",
    "i = [(4, 1), (1, 2), (1, 3), (1, 4), (1, 5), (3, 6), (10, 7), (1, 8), (1, 9)]\n",
    "o = []\n",
    "\n",
    "with Simulator(f, [source(f.i, i), sink(f.o, o, len(i)//r)]) as sim:\n",
    "    sim.run()\n",
    "print(o)"
   ]
  },
  {
   "cell_type": "code",
   "execution_count": 7,
   "metadata": {},
   "outputs": [
    {
     "name": "stdout",
     "output_type": "stream",
     "text": [
      "[(5, 1), (3, 2), (3, 3), (10, 4)]\n"
     ]
    }
   ],
   "source": [
    "f = Register(8)\n",
    "i = [(4, 1), (3, 2), (3, 3), (10, 4)]\n",
    "o = []\n",
    "\n",
    "with Simulator(f, [source(f.i, i), sink(f.o, o, len(i))]) as sim:\n",
    "    sim.run()\n",
    "print(o)"
   ]
  },
  {
   "cell_type": "code",
   "execution_count": 8,
   "metadata": {},
   "outputs": [
    {
     "data": {
      "text/plain": [
       "1024.0"
      ]
     },
     "execution_count": 8,
     "metadata": {},
     "output_type": "execute_result"
    }
   ],
   "source": [
    "2**4*(4*1)**4/4"
   ]
  },
  {
   "cell_type": "code",
   "execution_count": 11,
   "metadata": {},
   "outputs": [
    {
     "name": "stdout",
     "output_type": "stream",
     "text": [
      "[(11, 127), (1, 635), (1, 1905), (1, 4445), (1, 8890), (1, 16002), (1, 26670), (1, -23626), (1, 30097), (1, 25269), (1, 12439), (1, 25899), (1, -31004), (1, -25420), (1, -20980), (1, -15652), (1, -7404), (1, 5796), (1, -6788), (1, 6028), (1, 13508), (1, 17684), (1, 20588), (1, 24252), (9, 30708), (1, -23548), (1, 27356), (1, -27540)] 32512.0\n"
     ]
    }
   ],
   "source": [
    "r = 4\n",
    "f = CIC(r, 1, 5, (8, True))\n",
    "i = [(r, 127), (r, 127), (r, 127), (r, 127), (r, 0), (r, 0), (3*r, 0)]\n",
    "o = []\n",
    "\n",
    "with Simulator(f, [source(f.i, i), sink(f.o, o, r*len(i))]) as sim:\n",
    "    sim.run()\n",
    "print(o, f.gain*i[0][1])"
   ]
  },
  {
   "cell_type": "code",
   "execution_count": 10,
   "metadata": {},
   "outputs": [
    {
     "data": {
      "text/plain": [
       "[<matplotlib.lines.Line2D at 0x7fb37b779a20>]"
      ]
     },
     "execution_count": 10,
     "metadata": {},
     "output_type": "execute_result"
    },
    {
     "data": {
      "image/png": "[encoded data removed]",
      "text/plain": [
       "<matplotlib.figure.Figure at 0x7fb386597a58>"
      ]
     },
     "metadata": {},
     "output_type": "display_data"
    }
   ],
   "source": [
    "r = 128\n",
    "f = CIC(r, 1, 3, (16, True))\n",
    "i = [(r, 1)]*2 #+ [(r, 0)]*r\n",
    "o = []\n",
    "with Simulator(f, [source(f.i, i), sink(f.o, o, r*len(i))]) as sim:\n",
    "    sim.run()\n",
    "o = np.array([_[1] for _ in o])/f.gain\n",
    "plt.plot(o)\n",
    "#plt.psd(o);"
   ]
  },
  {
   "cell_type": "code",
   "execution_count": 11,
   "metadata": {},
   "outputs": [
    {
     "name": "stdout",
     "output_type": "stream",
     "text": [
      "/* Machine-generated using Migen */\n",
      "module top(\n",
      "\tinput signed [7:0] data,\n",
      "\tinput stb,\n",
      "\toutput ack,\n",
      "\toutput reg signed [34:0] data_1,\n",
      "\toutput reg stb_1,\n",
      "\tinput ack_1,\n",
      "\toutput i_stall,\n",
      "\toutput reg o_drop,\n",
      "\tinput sys_clk,\n",
      "\tinput sys_rst\n",
      ");\n",
      "\n",
      "reg [8:0] rate = 9'd511;\n",
      "reg [8:0] i0 = 9'd0;\n",
      "reg signed [7:0] cic0 = 8'sd0;\n",
      "reg signed [8:0] cic_comb0 = 9'sd0;\n",
      "reg cic_comb_en0 = 1'd0;\n",
      "reg signed [8:0] cic1 = 9'sd0;\n",
      "reg signed [9:0] cic_comb1 = 10'sd0;\n",
      "reg cic_comb_en1 = 1'd0;\n",
      "reg signed [9:0] cic2 = 10'sd0;\n",
      "reg signed [10:0] cic_comb2 = 11'sd0;\n",
      "reg cic_comb_en2 = 1'd0;\n",
      "reg signed [10:0] cic3 = 11'sd0;\n",
      "reg signed [11:0] cic_comb3 = 12'sd0;\n",
      "reg cic_comb_en3 = 1'd0;\n",
      "wire signed [11:0] i_data1;\n",
      "wire i_stb1;\n",
      "wire i_ack1;\n",
      "reg signed [11:0] o_data1;\n",
      "wire o_stb1;\n",
      "wire o_ack1;\n",
      "wire [8:0] r;\n",
      "reg [8:0] i1 = 9'd0;\n",
      "wire i_done;\n",
      "reg signed [10:0] cic_integrator0 = 11'sd0;\n",
      "reg cic_integrator_en0 = 1'd0;\n",
      "reg signed [18:0] cic_integrator1 = 19'sd0;\n",
      "reg cic_integrator_en1 = 1'd0;\n",
      "reg signed [26:0] cic_integrator2 = 27'sd0;\n",
      "reg cic_integrator_en2 = 1'd0;\n",
      "reg signed [34:0] cic_integrator3 = 35'sd0;\n",
      "reg cic_integrator_en3 = 1'd0;\n",
      "\n",
      "// synthesis translate_off\n",
      "reg dummy_s;\n",
      "initial dummy_s <= 1'd0;\n",
      "// synthesis translate_on\n",
      "\n",
      "assign i_stall = ((~ack) & stb);\n",
      "assign ack = (i0 == 1'd0);\n",
      "assign r = rate;\n",
      "assign i_data1 = cic_comb3;\n",
      "assign i_stb1 = cic_comb_en3;\n",
      "assign o_ack1 = 1'd1;\n",
      "assign i_done = (i1 == 1'd0);\n",
      "assign i_ack1 = (i_done & o_ack1);\n",
      "\n",
      "// synthesis translate_off\n",
      "reg dummy_d;\n",
      "// synthesis translate_on\n",
      "always @(*) begin\n",
      "\to_data1 <= 12'sd0;\n",
      "\tif (i_done) begin\n",
      "\t\to_data1 <= i_data1;\n",
      "\tend\n",
      "// synthesis translate_off\n",
      "\tdummy_d <= dummy_s;\n",
      "// synthesis translate_on\n",
      "end\n",
      "assign o_stb1 = ((~i_done) | i_stb1);\n",
      "\n",
      "always @(posedge sys_clk) begin\n",
      "\tif ((~ack)) begin\n",
      "\t\ti0 <= (i0 - 1'd1);\n",
      "\tend\n",
      "\tif (stb) begin\n",
      "\t\ti0 <= (rate - 1'd1);\n",
      "\tend\n",
      "\tif (stb) begin\n",
      "\t\tcic0 <= data;\n",
      "\tend\n",
      "\tcic_comb0 <= (data - cic0);\n",
      "\tcic_comb_en0 <= stb;\n",
      "\tif (cic_comb_en0) begin\n",
      "\t\tcic1 <= cic_comb0;\n",
      "\tend\n",
      "\tcic_comb1 <= (cic_comb0 - cic1);\n",
      "\tcic_comb_en1 <= cic_comb_en0;\n",
      "\tif (cic_comb_en1) begin\n",
      "\t\tcic2 <= cic_comb1;\n",
      "\tend\n",
      "\tcic_comb2 <= (cic_comb1 - cic2);\n",
      "\tcic_comb_en2 <= cic_comb_en1;\n",
      "\tif (cic_comb_en2) begin\n",
      "\t\tcic3 <= cic_comb2;\n",
      "\tend\n",
      "\tcic_comb3 <= (cic_comb2 - cic3);\n",
      "\tcic_comb_en3 <= cic_comb_en2;\n",
      "\tif (o_stb1) begin\n",
      "\t\tcic_integrator0 <= (cic_integrator0 + o_data1);\n",
      "\tend\n",
      "\tcic_integrator_en0 <= o_stb1;\n",
      "\tif (cic_integrator_en0) begin\n",
      "\t\tcic_integrator1 <= (cic_integrator1 + cic_integrator0);\n",
      "\tend\n",
      "\tcic_integrator_en1 <= cic_integrator_en0;\n",
      "\tif (cic_integrator_en1) begin\n",
      "\t\tcic_integrator2 <= (cic_integrator2 + cic_integrator1);\n",
      "\tend\n",
      "\tcic_integrator_en2 <= cic_integrator_en1;\n",
      "\tif (cic_integrator_en2) begin\n",
      "\t\tcic_integrator3 <= (cic_integrator3 + cic_integrator2);\n",
      "\tend\n",
      "\tcic_integrator_en3 <= cic_integrator_en2;\n",
      "\tdata_1 <= cic_integrator3;\n",
      "\tstb_1 <= cic_integrator_en3;\n",
      "\to_drop <= ((stb_1 & (~ack_1)) & cic_integrator_en3);\n",
      "\tif (((o_ack1 & o_stb1) & (~i_done))) begin\n",
      "\t\ti1 <= (i1 - 1'd1);\n",
      "\tend\n",
      "\tif ((i_ack1 & i_stb1)) begin\n",
      "\t\ti1 <= r;\n",
      "\tend\n",
      "\tif (sys_rst) begin\n",
      "\t\tstb_1 <= 1'd0;\n",
      "\t\to_drop <= 1'd0;\n",
      "\t\ti0 <= 9'd0;\n",
      "\t\tcic0 <= 8'sd0;\n",
      "\t\tcic_comb_en0 <= 1'd0;\n",
      "\t\tcic_comb_en1 <= 1'd0;\n",
      "\t\tcic_comb_en2 <= 1'd0;\n",
      "\t\tcic_comb_en3 <= 1'd0;\n",
      "\t\ti1 <= 9'd0;\n",
      "\t\tcic_integrator0 <= 11'sd0;\n",
      "\t\tcic_integrator_en0 <= 1'd0;\n",
      "\t\tcic_integrator1 <= 19'sd0;\n",
      "\t\tcic_integrator_en1 <= 1'd0;\n",
      "\t\tcic_integrator2 <= 27'sd0;\n",
      "\t\tcic_integrator_en2 <= 1'd0;\n",
      "\t\tcic_integrator3 <= 35'sd0;\n",
      "\t\tcic_integrator_en3 <= 1'd0;\n",
      "\tend\n",
      "end\n",
      "\n",
      "endmodule\n",
      "\n",
      "\n"
     ]
    }
   ],
   "source": [
    "f = CIC(512, 1, 4, 8)\n",
    "print(verilog.convert(f, ios={f.i.ack, f.i.stb, f.i.data, f.i_stall, f.o.ack, f.o.stb, f.o.data, f.o_drop}))"
   ]
  },
  {
   "cell_type": "code",
   "execution_count": 97,
   "metadata": {},
   "outputs": [
    {
     "data": {
      "text/plain": [
       "[<matplotlib.lines.Line2D at 0x7fb3796d2d68>]"
      ]
     },
     "execution_count": 97,
     "metadata": {},
     "output_type": "execute_result"
    },
    {
     "data": {
      "image/png": "[encoded data removed]",
      "text/plain": [
       "<matplotlib.figure.Figure at 0x7fb3799cd358>"
      ]
     },
     "metadata": {},
     "output_type": "display_data"
    }
   ],
   "source": [
    "r = 8\n",
    "\n",
    "x = np.array([0, 1., -.66, 2, .3, 1] + [0]*4)\n",
    "x = x.repeat(1)\n",
    "dt = np.ones(len(x), np.int32)*r\n",
    "t = dt.cumsum()\n",
    "\n",
    "# r = 1 << bits_for(int(max(dt)))\n",
    "f = CIC(r, 1, 3, (16, True))\n",
    "i = [(int(dti), int(xi*(1 << 12))) for dti, xi in zip(dt, x)]\n",
    "o = []\n",
    "\n",
    "def rate_setter(dut, dt, dly=1):\n",
    "    for i in range(dly):\n",
    "        yield\n",
    "    for dti in dt[1:]:\n",
    "        for i in range(dti):\n",
    "            yield\n",
    "        yield dut.rate.eq(int(dti - 1))\n",
    "\n",
    "# rate_setter(f, dt), \n",
    "try:\n",
    "    with Simulator(f, [source(f.i, i), passive(sink)(f.o, o, None)]) as sim:\n",
    "        sim.run()\n",
    "except KeyboardInterrupt:\n",
    "    pass\n",
    "ot, ox = np.array(o).T\n",
    "ot = ot.cumsum() - 18\n",
    "ox = ox/f.gain/(1 << 12)\n",
    "\n",
    "fig, ax = plt.subplots()\n",
    "ax.plot(t, x)\n",
    "ax.plot(ot, ox, \"o-\")\n",
    "\n",
    "from artiq.wavesynth import coefficients\n",
    "ms = coefficients.UnivariateMultiSpline(t, x[None, :], order=3)\n",
    "st = np.arange((len(t) - 1)*r) + r\n",
    "sx = ms(st)[0, 0]\n",
    "ax.plot(st, sx)"
   ]
  },
  {
   "cell_type": "code",
   "execution_count": 98,
   "metadata": {},
   "outputs": [
    {
     "data": {
      "image/png": "[encoded data removed]",
      "text/plain": [
       "<matplotlib.figure.Figure at 0x7fb379c60f28>"
      ]
     },
     "metadata": {},
     "output_type": "display_data"
    }
   ],
   "source": [
    "fig, ax = plt.subplots()\n",
    "n = 1 << 10\n",
    "ax.set_xscale(\"log\")\n",
    "ax.psd(ox, NFFT=n)\n",
    "ax.psd(sx, NFFT=n);"
   ]
  },
  {
   "cell_type": "code",
   "execution_count": 99,
   "metadata": {},
   "outputs": [
    {
     "data": {
      "text/plain": [
       "[<matplotlib.lines.Line2D at 0x7fb379624c18>]"
      ]
     },
     "execution_count": 99,
     "metadata": {},
     "output_type": "execute_result"
    },
    {
     "data": {
      "image/png": "[encoded data removed]",
      "text/plain": [
       "<matplotlib.figure.Figure at 0x7fb379624908>"
      ]
     },
     "metadata": {},
     "output_type": "display_data"
    }
   ],
   "source": [
    "plt.plot(ot, np.ediff1d(np.ediff1d(ox, to_begin=0), to_begin=0))\n",
    "plt.plot(st, np.ediff1d(np.ediff1d(sx, to_begin=0), to_begin=0))"
   ]
  },
  {
   "cell_type": "code",
   "execution_count": null,
   "metadata": {},
   "outputs": [],
   "source": []
  }
 ],
 "metadata": {
  "kernelspec": {
   "display_name": "Python [conda env:py35]",
   "language": "python",
   "name": "conda-env-py35-py"
  },
  "language_info": {
   "codemirror_mode": {
    "name": "ipython",
    "version": 3
   },
   "file_extension": ".py",
   "mimetype": "text/x-python",
   "name": "python",
   "nbconvert_exporter": "python",
   "pygments_lexer": "ipython3",
   "version": "3.5.3"
  }
 },
 "nbformat": 4,
 "nbformat_minor": 2
}
